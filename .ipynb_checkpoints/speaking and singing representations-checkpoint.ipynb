{
 "cells": [
  {
   "cell_type": "markdown",
   "metadata": {},
   "source": [
    "# Speaker recognition using singing or speaking voice\n",
    "\n",
    "This project aims at recognizing speakers through a joint representation learning of singing and speaking voices from them. "
   ]
  },
  {
   "cell_type": "code",
   "execution_count": 2,
   "metadata": {},
   "outputs": [],
   "source": [
    "import pandas as pd\n",
    "import numpy as np\n",
    "import torch\n",
    "import json"
   ]
  },
  {
   "cell_type": "markdown",
   "metadata": {},
   "source": [
    "### JukeBox dataset analysis\n",
    "\n",
    "[Voxceleb Link](https://mm.kaist.ac.kr/datasets/voxceleb/#downloads)"
   ]
  },
  {
   "cell_type": "code",
   "execution_count": 3,
   "metadata": {},
   "outputs": [],
   "source": [
    "metadata = pd.read_csv(\"./jukebox_metadata.csv\")\n",
    "\n",
    "#creating artist id and name pairs\n",
    "idname_df = metadata[['artist_id', 'artist_name']]\n",
    "ids = list(idname_df['artist_id'])\n",
    "names = list(idname_df['artist_name'])\n",
    "\n",
    "id_name_dict = {}\n",
    "\n",
    "for i in range(0, len(ids)):\n",
    "    \n",
    "    if ids[i] in id_name_dict:\n",
    "        continue\n",
    "    else:\n",
    "        id_name_dict[int(ids[i])] = names[i]\n",
    "\n",
    "# with open(\"./jukebox_id_artist.json\", \"w+\") as data:\n",
    "#     json.dump(id_name_dict, data)"
   ]
  },
  {
   "cell_type": "markdown",
   "metadata": {},
   "source": [
    "### Jukebox and VoxCeleb common artists"
   ]
  },
  {
   "cell_type": "code",
   "execution_count": 4,
   "metadata": {},
   "outputs": [
    {
     "name": "stdout",
     "output_type": "stream",
     "text": [
      "['a-lin', 'adira', 'adrian_minune', 'afgan', 'ai', 'aiko', 'aimer', 'albert_west', 'alex_mica', 'alexandra_stan']\n",
      "['a.j._buckley', 'a.r._rahman', 'aamir_khan', 'aaron_tveit', 'aaron_yoo', 'abbie_cornish', 'abigail_breslin', 'abigail_spencer', 'adam_beach', 'adam_brody']\n"
     ]
    }
   ],
   "source": [
    "#jukebox artists\n",
    "with open(\"./jukebox_id_artist.json\", 'r') as juke:\n",
    "    jukebox = json.load(juke)\n",
    "\n",
    "jukebox_arts = [j for i,j in jukebox.items()]\n",
    "jukebox_arts = [i.replace(\" \", \"_\").lower() for i in jukebox_arts]\n",
    "print(jukebox_arts[:10])\n",
    "\n",
    "\n",
    "#voxceleb artists\n",
    "voxDf = pd.read_csv(\"./vox1_meta.csv\", delimiter=\"\\t\")\n",
    "vox_arts = list(voxDf[\"VGGFace1 ID\"])\n",
    "vox_arts = [k.lower() for k in vox_arts]\n",
    "print(vox_arts[:10])\n",
    "\n",
    "#commons\n",
    "commons = list(set(jukebox_arts).intersection(set(vox_arts)))\n",
    "# with open(\"commons_in_vox_and_jukebox.txt\", 'w+') as commonData:\n",
    "\n",
    "#     for artist in commons:\n",
    "#         commonData.write(artist)\n",
    "#         commonData.write(\"\\n\")\n",
    "\n"
   ]
  },
  {
   "cell_type": "markdown",
   "metadata": {},
   "source": [
    "### housekeeping for arranging vox and juke data"
   ]
  },
  {
   "cell_type": "code",
   "execution_count": 5,
   "metadata": {},
   "outputs": [],
   "source": [
    "jukemeta = pd.read_csv(\"jukebox_metadata.csv\")\n",
    "voxmeta = pd.read_csv(\"vox1_meta.csv\", delimiter='\\t')\n",
    "voxmeta['VGGFace1 ID'] = voxmeta['VGGFace1 ID'].str.casefold()\n",
    "jukemeta['artist_name'] = jukemeta['artist_name'].str.casefold()\n",
    "jukemeta['artist_name'] = jukemeta['artist_name'].apply(lambda x: x.replace(\" \", \"_\"))"
   ]
  },
  {
   "cell_type": "code",
   "execution_count": 6,
   "metadata": {},
   "outputs": [],
   "source": [
    "### creating dictionary for voxid:artist pair\n",
    "\n",
    "voxcommon = voxmeta[voxmeta['VGGFace1 ID'].isin(commons)]\n",
    "voxid_celeb = {}\n",
    "for i in range(0, len(voxcommon)):\n",
    "    voxid_celeb[voxcommon.iloc[i]['VoxCeleb1 ID']]=voxcommon.iloc[i]['VGGFace1 ID']\n",
    "\n",
    "# with open(\"./vox_id_celeb.json\", 'w+') as voxidartist:\n",
    "    \n",
    "#     json.dump(voxid_celeb, voxidartist)"
   ]
  },
  {
   "cell_type": "code",
   "execution_count": 7,
   "metadata": {},
   "outputs": [],
   "source": [
    "### creating dictionary for jukeID:artist pair\n",
    "jukecommon = jukemeta[jukemeta['artist_name'].isin(commons)]\n",
    "#print(list(jukecommon))\n",
    "\n",
    "jukeid_celeb = {}\n",
    "for c in commons:\n",
    "    jukeid = str(jukecommon[jukecommon['artist_name'] == c]['artist_id'].unique()[0])\n",
    "    jukeid_celeb[jukeid] = c\n",
    "\n",
    "# with open(\"./juke_id_celeb.json\", 'w+') as jukeidartist:\n",
    "#     json.dump(jukeid_celeb, jukeidartist)\n",
    "\n"
   ]
  },
  {
   "cell_type": "code",
   "execution_count": 8,
   "metadata": {},
   "outputs": [
    {
     "data": {
      "text/html": [
       "<div>\n",
       "<style scoped>\n",
       "    .dataframe tbody tr th:only-of-type {\n",
       "        vertical-align: middle;\n",
       "    }\n",
       "\n",
       "    .dataframe tbody tr th {\n",
       "        vertical-align: top;\n",
       "    }\n",
       "\n",
       "    .dataframe thead th {\n",
       "        text-align: right;\n",
       "    }\n",
       "</style>\n",
       "<table border=\"1\" class=\"dataframe\">\n",
       "  <thead>\n",
       "    <tr style=\"text-align: right;\">\n",
       "      <th></th>\n",
       "      <th>Unnamed: 0</th>\n",
       "      <th>song_name</th>\n",
       "      <th>artist_id</th>\n",
       "      <th>artist_name</th>\n",
       "      <th>partition</th>\n",
       "      <th>language_label</th>\n",
       "      <th>gender_label</th>\n",
       "      <th>full_path</th>\n",
       "    </tr>\n",
       "  </thead>\n",
       "  <tbody>\n",
       "    <tr>\n",
       "      <th>2411</th>\n",
       "      <td>2411</td>\n",
       "      <td>0_1.wav</td>\n",
       "      <td>75</td>\n",
       "      <td>charlotte_gainsbourg</td>\n",
       "      <td>AUXILIARY</td>\n",
       "      <td>French</td>\n",
       "      <td>female</td>\n",
       "      <td>AUXILIARY/75/0_1.wav</td>\n",
       "    </tr>\n",
       "    <tr>\n",
       "      <th>2412</th>\n",
       "      <td>2412</td>\n",
       "      <td>0_2.wav</td>\n",
       "      <td>75</td>\n",
       "      <td>charlotte_gainsbourg</td>\n",
       "      <td>AUXILIARY</td>\n",
       "      <td>French</td>\n",
       "      <td>female</td>\n",
       "      <td>AUXILIARY/75/0_2.wav</td>\n",
       "    </tr>\n",
       "    <tr>\n",
       "      <th>2413</th>\n",
       "      <td>2413</td>\n",
       "      <td>0_3.wav</td>\n",
       "      <td>75</td>\n",
       "      <td>charlotte_gainsbourg</td>\n",
       "      <td>AUXILIARY</td>\n",
       "      <td>French</td>\n",
       "      <td>female</td>\n",
       "      <td>AUXILIARY/75/0_3.wav</td>\n",
       "    </tr>\n",
       "    <tr>\n",
       "      <th>2414</th>\n",
       "      <td>2414</td>\n",
       "      <td>0_4.wav</td>\n",
       "      <td>75</td>\n",
       "      <td>charlotte_gainsbourg</td>\n",
       "      <td>AUXILIARY</td>\n",
       "      <td>French</td>\n",
       "      <td>female</td>\n",
       "      <td>AUXILIARY/75/0_4.wav</td>\n",
       "    </tr>\n",
       "    <tr>\n",
       "      <th>2415</th>\n",
       "      <td>2415</td>\n",
       "      <td>0_5.wav</td>\n",
       "      <td>75</td>\n",
       "      <td>charlotte_gainsbourg</td>\n",
       "      <td>AUXILIARY</td>\n",
       "      <td>French</td>\n",
       "      <td>female</td>\n",
       "      <td>AUXILIARY/75/0_5.wav</td>\n",
       "    </tr>\n",
       "    <tr>\n",
       "      <th>14825</th>\n",
       "      <td>14825</td>\n",
       "      <td>0_1.wav</td>\n",
       "      <td>359</td>\n",
       "      <td>amanda_seyfried</td>\n",
       "      <td>TRAIN</td>\n",
       "      <td>English</td>\n",
       "      <td>female</td>\n",
       "      <td>TRAIN/359/0_1.wav</td>\n",
       "    </tr>\n",
       "    <tr>\n",
       "      <th>14826</th>\n",
       "      <td>14826</td>\n",
       "      <td>0_2.wav</td>\n",
       "      <td>359</td>\n",
       "      <td>amanda_seyfried</td>\n",
       "      <td>TRAIN</td>\n",
       "      <td>English</td>\n",
       "      <td>female</td>\n",
       "      <td>TRAIN/359/0_2.wav</td>\n",
       "    </tr>\n",
       "    <tr>\n",
       "      <th>14827</th>\n",
       "      <td>14827</td>\n",
       "      <td>0_3.wav</td>\n",
       "      <td>359</td>\n",
       "      <td>amanda_seyfried</td>\n",
       "      <td>TRAIN</td>\n",
       "      <td>English</td>\n",
       "      <td>female</td>\n",
       "      <td>TRAIN/359/0_3.wav</td>\n",
       "    </tr>\n",
       "    <tr>\n",
       "      <th>14828</th>\n",
       "      <td>14828</td>\n",
       "      <td>0_4.wav</td>\n",
       "      <td>359</td>\n",
       "      <td>amanda_seyfried</td>\n",
       "      <td>TRAIN</td>\n",
       "      <td>English</td>\n",
       "      <td>female</td>\n",
       "      <td>TRAIN/359/0_4.wav</td>\n",
       "    </tr>\n",
       "    <tr>\n",
       "      <th>14829</th>\n",
       "      <td>14829</td>\n",
       "      <td>0_5.wav</td>\n",
       "      <td>359</td>\n",
       "      <td>amanda_seyfried</td>\n",
       "      <td>TRAIN</td>\n",
       "      <td>English</td>\n",
       "      <td>female</td>\n",
       "      <td>TRAIN/359/0_5.wav</td>\n",
       "    </tr>\n",
       "  </tbody>\n",
       "</table>\n",
       "</div>"
      ],
      "text/plain": [
       "       Unnamed: 0 song_name  artist_id           artist_name  partition  \\\n",
       "2411         2411   0_1.wav         75  charlotte_gainsbourg  AUXILIARY   \n",
       "2412         2412   0_2.wav         75  charlotte_gainsbourg  AUXILIARY   \n",
       "2413         2413   0_3.wav         75  charlotte_gainsbourg  AUXILIARY   \n",
       "2414         2414   0_4.wav         75  charlotte_gainsbourg  AUXILIARY   \n",
       "2415         2415   0_5.wav         75  charlotte_gainsbourg  AUXILIARY   \n",
       "14825       14825   0_1.wav        359       amanda_seyfried      TRAIN   \n",
       "14826       14826   0_2.wav        359       amanda_seyfried      TRAIN   \n",
       "14827       14827   0_3.wav        359       amanda_seyfried      TRAIN   \n",
       "14828       14828   0_4.wav        359       amanda_seyfried      TRAIN   \n",
       "14829       14829   0_5.wav        359       amanda_seyfried      TRAIN   \n",
       "\n",
       "      language_label gender_label             full_path  \n",
       "2411          French       female  AUXILIARY/75/0_1.wav  \n",
       "2412          French       female  AUXILIARY/75/0_2.wav  \n",
       "2413          French       female  AUXILIARY/75/0_3.wav  \n",
       "2414          French       female  AUXILIARY/75/0_4.wav  \n",
       "2415          French       female  AUXILIARY/75/0_5.wav  \n",
       "14825        English       female     TRAIN/359/0_1.wav  \n",
       "14826        English       female     TRAIN/359/0_2.wav  \n",
       "14827        English       female     TRAIN/359/0_3.wav  \n",
       "14828        English       female     TRAIN/359/0_4.wav  \n",
       "14829        English       female     TRAIN/359/0_5.wav  "
      ]
     },
     "execution_count": 8,
     "metadata": {},
     "output_type": "execute_result"
    }
   ],
   "source": [
    "jukecommon[:10]"
   ]
  },
  {
   "cell_type": "markdown",
   "metadata": {},
   "source": [
    "### Metadata Creation\n"
   ]
  },
  {
   "cell_type": "code",
   "execution_count": 9,
   "metadata": {},
   "outputs": [],
   "source": [
    "from src.utilities import Utilities\n",
    "\n",
    "with open(\"juke_id_celeb_commons.json\", 'r') as jk:\n",
    "    juke = json.load(jk)\n",
    "\n",
    "with open(\"vox_id_celeb_commons.json\", 'r') as vo:\n",
    "    vox = json.load(vo)"
   ]
  },
  {
   "cell_type": "code",
   "execution_count": 12,
   "metadata": {},
   "outputs": [
    {
     "data": {
      "text/plain": [
       "29"
      ]
     },
     "execution_count": 12,
     "metadata": {},
     "output_type": "execute_result"
    }
   ],
   "source": []
  },
  {
   "cell_type": "code",
   "execution_count": 14,
   "metadata": {},
   "outputs": [
    {
     "name": "stdout",
     "output_type": "stream",
     "text": [
      "marie_osmond: 7\n",
      "lea_salonga: 89\n",
      "bruno_mars: 213\n",
      "smokey_robinson: 14\n",
      "miley_cyrus: 56\n",
      "amanda_seyfried: 27\n",
      "anne_hathaway: 8\n",
      "josh_groban: 11\n",
      "nelly_furtado: 9\n",
      "nicole_scherzinger: 43\n",
      "rita_ora: 24\n",
      "cyndi_lauper: 13\n",
      "stevie_wonder: 167\n",
      "troye_sivan: 26\n",
      "meat_loaf: 47\n",
      "chris_martin: 4\n",
      "carrie_underwood: 30\n",
      "janet_jackson: 8\n",
      "cher: 143\n",
      "lea_michele: 47\n",
      "jack_black: 118\n",
      "charlotte_gainsbourg: 5\n",
      "kylie_minogue: 60\n",
      "sammy_davis_jr.: 14\n",
      "blake_shelton: 5\n",
      "lorde: 119\n",
      "kenny_rogers: 126\n",
      "jill_scott: 10\n",
      "jessie_j: 7\n"
     ]
    }
   ],
   "source": [
    "#jukemeta = full metadata for juke\n",
    "#voxmeta = full metadata for voxceleb\n",
    "\n",
    "###getting jukemeta information\n",
    "for artist in commons:\n",
    "    print(artist + \": \"+ str(len((jukemeta[jukemeta['artist_name'] == artist]))))"
   ]
  },
  {
   "cell_type": "markdown",
   "metadata": {},
   "source": [
    "### TRAIN, TEST, AUXILIARY in JukeBox"
   ]
  },
  {
   "cell_type": "code",
   "execution_count": 15,
   "metadata": {},
   "outputs": [],
   "source": [
    "jukemeta = pd.read_csv(\"./jukebox_metadata.csv\")\n",
    "jukemeta['artist_name'] = jukemeta['artist_name'].str.casefold()\n",
    "jukemeta['artist_name'] = jukemeta['artist_name'].apply(lambda x: x.replace(\" \", \"_\"))"
   ]
  },
  {
   "cell_type": "code",
   "execution_count": 16,
   "metadata": {},
   "outputs": [],
   "source": [
    "commondf = jukemeta[jukemeta['artist_name'].isin(commons)]\n",
    "auxiliarys = list(commondf[commondf['partition'] == \"AUXILIARY\"][\"artist_name\"].unique())\n",
    "auxiliary_ID_artist = {}\n",
    "\n",
    "for aux in auxiliarys:\n",
    "    idNum = commondf[commondf['artist_name']==aux]['artist_id'].unique()[0]\n",
    "    auxiliary_ID_artist[str(idNum)] = aux "
   ]
  },
  {
   "cell_type": "code",
   "execution_count": 17,
   "metadata": {},
   "outputs": [
    {
     "data": {
      "text/plain": [
       "['75', '372', '649', '663', '680', '914']"
      ]
     },
     "execution_count": 17,
     "metadata": {},
     "output_type": "execute_result"
    }
   ],
   "source": [
    "aux_ids = [auxid for auxid, name in auxiliary_ID_artist.items()]\n",
    "aux_ids"
   ]
  },
  {
   "cell_type": "code",
   "execution_count": 35,
   "metadata": {},
   "outputs": [],
   "source": [
    "# with open(\"./auxiliarys.json\", 'w+') as auxis:\n",
    "#     json.dump(auxiliary_ID_artist, auxis)"
   ]
  },
  {
   "cell_type": "code",
   "execution_count": 18,
   "metadata": {},
   "outputs": [
    {
     "name": "stdout",
     "output_type": "stream",
     "text": [
      "charlotte_gainsbourg: 5\n",
      "anne_hathaway: 8\n",
      "jack_black: 118\n",
      "janet_jackson: 8\n",
      "jessie_j: 7\n",
      "nelly_furtado: 9\n"
     ]
    }
   ],
   "source": [
    "for artist in auxiliarys:\n",
    "    print(artist + \": \"+ str(len((jukemeta[jukemeta['artist_name'] == artist]))))"
   ]
  },
  {
   "cell_type": "markdown",
   "metadata": {},
   "source": [
    "### arranging the data\n",
    "\n",
    "The data is arranged using a script in `/netscratch/rsharma/voice-recognition-speak-sing/src/utilities.py`. I know I am not an organized being in this sense OKAY! Stop looking at me like a criminal! "
   ]
  },
  {
   "cell_type": "markdown",
   "metadata": {},
   "source": [
    "## Meta data for the data arranged in the previous step."
   ]
  },
  {
   "cell_type": "code",
   "execution_count": 28,
   "metadata": {},
   "outputs": [],
   "source": [
    "##### Metadata for files and the data size per artists for voxceleb and Jukebox\n",
    "def get_id_from_artistName(dic, val):\n",
    "    return [k for k, v in dic.items() if v == val][0]\n",
    "\n",
    "df_columns = ['artist_name', 'voxceleb_id', 'jukebox_id', 'singing_time_sec', 'speaking_time_sec', 'vox_path', 'juke_path']"
   ]
  },
  {
   "cell_type": "code",
   "execution_count": 39,
   "metadata": {},
   "outputs": [
    {
     "name": "stdout",
     "output_type": "stream",
     "text": [
      "Singing metadata for: marie_osmond\n",
      "239.76\n"
     ]
    }
   ],
   "source": [
    "import wave\n",
    "import os\n",
    "\n",
    "def getDuration(filePath):\n",
    "    with wave.open(filePath) as mywav:\n",
    "        duration_seconds = mywav.getnframes() / mywav.getframerate()\n",
    "    return duration_seconds\n",
    "\n",
    "speakingDir = \"/netscratch/rsharma/voice-recognition-speak-sing/data/speaking/\"\n",
    "singingDir = \"/netscratch/rsharma/voice-recognition-speak-sing/data/singing/\"\n",
    "\n",
    "\n",
    "for artist in commons:\n",
    "    if artist in auxiliarys:\n",
    "        continue\n",
    "    voxID = get_id_from_artistName(vox, artist)\n",
    "    jukeID = get_id_from_artistName(juke, artist)\n",
    "    \n",
    "    #singing_metadata\n",
    "    print(\"Singing metadata for: \" + artist)\n",
    "    juke_path = singingDir + artist\n",
    "    sing_artist_files = [juke_path + \"/\" + i for i in  os.listdir(singingDir + artist)]\n",
    "    sing_duration = 0\n",
    "    for singFile in sing_artist_files:\n",
    "        sing_duration = duration + getDuration(singFile)\n",
    "    \n",
    "    #speaking_metadata\n",
    "    \n",
    "        \n",
    "    \n",
    "    \n",
    "    "
   ]
  },
  {
   "cell_type": "code",
   "execution_count": 30,
   "metadata": {},
   "outputs": [
    {
     "data": {
      "text/plain": [
       "{'id10041': 'amanda_seyfried',\n",
       " 'id10061': 'anne_hathaway',\n",
       " 'id10095': 'blake_shelton',\n",
       " 'id10115': 'bruno_mars',\n",
       " 'id10130': 'carrie_underwood',\n",
       " 'id10145': 'charlotte_gainsbourg',\n",
       " 'id10148': 'cher',\n",
       " 'id10157': 'chris_martin',\n",
       " 'id10180': 'cyndi_lauper',\n",
       " 'id10399': 'jack_black',\n",
       " 'id10436': 'janet_jackson',\n",
       " 'id10497': 'jessie_j',\n",
       " 'id10499': 'jill_scott',\n",
       " 'id10564': 'josh_groban',\n",
       " 'id10635': 'kenny_rogers',\n",
       " 'id10666': 'kylie_minogue',\n",
       " 'id10678': 'lea_michele',\n",
       " 'id10679': 'lea_salonga',\n",
       " 'id10703': 'lorde',\n",
       " 'id10742': 'marie_osmond',\n",
       " 'id10786': 'meat_loaf',\n",
       " 'id10825': 'miley_cyrus',\n",
       " 'id10870': 'nelly_furtado',\n",
       " 'id10880': 'nicole_scherzinger',\n",
       " 'id10981': 'rita_ora',\n",
       " 'id11035': 'sammy_davis_jr.',\n",
       " 'id11098': 'smokey_robinson',\n",
       " 'id11127': 'stevie_wonder',\n",
       " 'id11192': 'troye_sivan'}"
      ]
     },
     "execution_count": 30,
     "metadata": {},
     "output_type": "execute_result"
    }
   ],
   "source": [
    "vox"
   ]
  },
  {
   "cell_type": "code",
   "execution_count": null,
   "metadata": {},
   "outputs": [],
   "source": []
  }
 ],
 "metadata": {
  "kernelspec": {
   "display_name": "Python 3",
   "language": "python",
   "name": "python3"
  },
  "language_info": {
   "codemirror_mode": {
    "name": "ipython",
    "version": 3
   },
   "file_extension": ".py",
   "mimetype": "text/x-python",
   "name": "python",
   "nbconvert_exporter": "python",
   "pygments_lexer": "ipython3",
   "version": "3.6.10"
  },
  "vscode": {
   "interpreter": {
    "hash": "31f2aee4e71d21fbe5cf8b01ff0e069b9275f58929596ceb00d14d90e3e16cd6"
   }
  }
 },
 "nbformat": 4,
 "nbformat_minor": 4
}
