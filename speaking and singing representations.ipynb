{
 "cells": [
  {
   "cell_type": "markdown",
   "metadata": {},
   "source": [
    "# Speaker recognition using singing or speaking voice\n",
    "\n",
    "This project aims at recognizing speakers through a joint representation learning of singing and speaking voices from them. "
   ]
  },
  {
   "cell_type": "code",
   "execution_count": 26,
   "metadata": {},
   "outputs": [],
   "source": [
    "import pandas as pd\n",
    "import numpy as np\n",
    "import torch\n",
    "import json"
   ]
  },
  {
   "attachments": {},
   "cell_type": "markdown",
   "metadata": {},
   "source": [
    "### JukeBox dataset analysis\n",
    "\n",
    "[Voxceleb Link](https://mm.kaist.ac.kr/datasets/voxceleb/#downloads)"
   ]
  },
  {
   "cell_type": "code",
   "execution_count": 30,
   "metadata": {},
   "outputs": [],
   "source": [
    "metadata = pd.read_csv(\"./jukebox_metadata.csv\")\n",
    "\n",
    "#creating artist id and name pairs\n",
    "idname_df = metadata[['artist_id', 'artist_name']]\n",
    "ids = list(idname_df['artist_id'])\n",
    "names = list(idname_df['artist_name'])\n",
    "\n",
    "id_name_dict = {}\n",
    "\n",
    "for i in range(0, len(ids)):\n",
    "    \n",
    "    if ids[i] in id_name_dict:\n",
    "        continue\n",
    "    else:\n",
    "        id_name_dict[int(ids[i])] = names[i]\n",
    "\n",
    "with open(\"./jukebox_id_artist.json\", \"w+\") as data:\n",
    "    json.dump(id_name_dict, data)"
   ]
  },
  {
   "attachments": {},
   "cell_type": "markdown",
   "metadata": {},
   "source": [
    "### Jukebox and VoxCeleb common artists"
   ]
  },
  {
   "cell_type": "code",
   "execution_count": 44,
   "metadata": {},
   "outputs": [
    {
     "name": "stdout",
     "output_type": "stream",
     "text": [
      "['a-lin', 'adira', 'adrian_minune', 'afgan', 'ai', 'aiko', 'aimer', 'albert_west', 'alex_mica', 'alexandra_stan']\n",
      "['a.j._buckley', 'a.r._rahman', 'aamir_khan', 'aaron_tveit', 'aaron_yoo', 'abbie_cornish', 'abigail_breslin', 'abigail_spencer', 'adam_beach', 'adam_brody']\n"
     ]
    },
    {
     "data": {
      "text/plain": [
       "29"
      ]
     },
     "execution_count": 44,
     "metadata": {},
     "output_type": "execute_result"
    }
   ],
   "source": [
    "#jukebox artists\n",
    "with open(\"./jukebox_id_artist.json\", 'r') as juke:\n",
    "    jukebox = json.load(juke)\n",
    "\n",
    "jukebox_arts = [j for i,j in jukebox.items()]\n",
    "jukebox_arts = [i.replace(\" \", \"_\").lower() for i in jukebox_arts]\n",
    "print(jukebox_arts[:10])\n",
    "\n",
    "\n",
    "#voxceleb artists\n",
    "voxDf = pd.read_csv(\"./vox1_meta.csv\", delimiter=\"\\t\")\n",
    "vox_arts = list(voxDf[\"VGGFace1 ID\"])\n",
    "vox_arts = [k.lower() for k in vox_arts]\n",
    "print(vox_arts[:10])\n",
    "\n",
    "#commons\n",
    "commons = list(set(jukebox_arts).intersection(set(vox_arts)))\n",
    "len(commons)"
   ]
  },
  {
   "cell_type": "code",
   "execution_count": null,
   "metadata": {},
   "outputs": [],
   "source": []
  }
 ],
 "metadata": {
  "kernelspec": {
   "display_name": "Python 3",
   "language": "python",
   "name": "python3"
  },
  "language_info": {
   "codemirror_mode": {
    "name": "ipython",
    "version": 3
   },
   "file_extension": ".py",
   "mimetype": "text/x-python",
   "name": "python",
   "nbconvert_exporter": "python",
   "pygments_lexer": "ipython3",
   "version": "3.6.10"
  },
  "vscode": {
   "interpreter": {
    "hash": "31f2aee4e71d21fbe5cf8b01ff0e069b9275f58929596ceb00d14d90e3e16cd6"
   }
  }
 },
 "nbformat": 4,
 "nbformat_minor": 4
}
