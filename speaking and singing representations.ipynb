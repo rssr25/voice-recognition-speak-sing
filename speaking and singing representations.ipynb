{
 "cells": [
  {
   "cell_type": "markdown",
   "metadata": {},
   "source": [
    "# Speaker recognition using singing or speaking voice\n",
    "\n",
    "This project aims at recognizing speakers through a joint representation learning of singing and speaking voices from them. "
   ]
  },
  {
   "cell_type": "code",
   "execution_count": 1,
   "metadata": {},
   "outputs": [],
   "source": [
    "import pandas as pd\n",
    "import numpy as np\n",
    "import torch\n",
    "import json"
   ]
  },
  {
   "cell_type": "markdown",
   "metadata": {},
   "source": [
    "### JukeBox dataset analysis\n",
    "\n",
    "[Voxceleb Link](https://mm.kaist.ac.kr/datasets/voxceleb/#downloads)"
   ]
  },
  {
   "cell_type": "code",
   "execution_count": 2,
   "metadata": {},
   "outputs": [],
   "source": [
    "metadata = pd.read_csv(\"./jukebox_metadata.csv\")\n",
    "\n",
    "#creating artist id and name pairs\n",
    "idname_df = metadata[['artist_id', 'artist_name']]\n",
    "ids = list(idname_df['artist_id'])\n",
    "names = list(idname_df['artist_name'])\n",
    "\n",
    "id_name_dict = {}\n",
    "\n",
    "for i in range(0, len(ids)):\n",
    "    \n",
    "    if ids[i] in id_name_dict:\n",
    "        continue\n",
    "    else:\n",
    "        id_name_dict[int(ids[i])] = names[i]\n",
    "\n",
    "with open(\"./jukebox_id_artist.json\", \"w+\") as data:\n",
    "    json.dump(id_name_dict, data)"
   ]
  },
  {
   "cell_type": "markdown",
   "metadata": {},
   "source": [
    "### Jukebox and VoxCeleb common artists"
   ]
  },
  {
   "cell_type": "code",
   "execution_count": 3,
   "metadata": {},
   "outputs": [
    {
     "name": "stdout",
     "output_type": "stream",
     "text": [
      "['a-lin', 'adira', 'adrian_minune', 'afgan', 'ai', 'aiko', 'aimer', 'albert_west', 'alex_mica', 'alexandra_stan']\n",
      "['a.j._buckley', 'a.r._rahman', 'aamir_khan', 'aaron_tveit', 'aaron_yoo', 'abbie_cornish', 'abigail_breslin', 'abigail_spencer', 'adam_beach', 'adam_brody']\n"
     ]
    }
   ],
   "source": [
    "#jukebox artists\n",
    "with open(\"./jukebox_id_artist.json\", 'r') as juke:\n",
    "    jukebox = json.load(juke)\n",
    "\n",
    "jukebox_arts = [j for i,j in jukebox.items()]\n",
    "jukebox_arts = [i.replace(\" \", \"_\").lower() for i in jukebox_arts]\n",
    "print(jukebox_arts[:10])\n",
    "\n",
    "\n",
    "#voxceleb artists\n",
    "voxDf = pd.read_csv(\"./vox1_meta.csv\", delimiter=\"\\t\")\n",
    "vox_arts = list(voxDf[\"VGGFace1 ID\"])\n",
    "vox_arts = [k.lower() for k in vox_arts]\n",
    "print(vox_arts[:10])\n",
    "\n",
    "#commons\n",
    "commons = list(set(jukebox_arts).intersection(set(vox_arts)))\n",
    "with open(\"commons_in_vox_and_jukebox.txt\", 'w+') as commonData:\n",
    "\n",
    "    for artist in commons:\n",
    "        commonData.write(artist)\n",
    "        commonData.write(\"\\n\")\n",
    "\n"
   ]
  },
  {
   "cell_type": "markdown",
   "metadata": {},
   "source": [
    "### housekeeping for arranging vox and juke data"
   ]
  },
  {
   "cell_type": "code",
   "execution_count": 4,
   "metadata": {},
   "outputs": [],
   "source": [
    "jukemeta = pd.read_csv(\"jukebox_metadata.csv\")\n",
    "voxmeta = pd.read_csv(\"vox1_meta.csv\", delimiter='\\t')\n",
    "voxmeta['VGGFace1 ID'] = voxmeta['VGGFace1 ID'].str.casefold()\n",
    "jukemeta['artist_name'] = jukemeta['artist_name'].str.casefold()\n",
    "jukemeta['artist_name'] = jukemeta['artist_name'].apply(lambda x: x.replace(\" \", \"_\"))"
   ]
  },
  {
   "cell_type": "code",
   "execution_count": 20,
   "metadata": {},
   "outputs": [],
   "source": [
    "### creating dictionary for voxid:artist pair\n",
    "\n",
    "voxcommon = voxmeta[voxmeta['VGGFace1 ID'].isin(commons)]\n",
    "voxid_celeb = {}\n",
    "for i in range(0, len(voxcommon)):\n",
    "    voxid_celeb[voxcommon.iloc[i]['VoxCeleb1 ID']]=voxcommon.iloc[i]['VGGFace1 ID']\n",
    "\n",
    "with open(\"./vox_id_celeb.json\", 'w+') as voxidartist:\n",
    "    \n",
    "    json.dump(voxid_celeb, voxidartist)"
   ]
  },
  {
   "cell_type": "code",
   "execution_count": 40,
   "metadata": {},
   "outputs": [
    {
     "data": {
      "text/plain": [
       "{'1162': 'chris_martin',\n",
       " '475': 'cher',\n",
       " '1128': 'troye_sivan',\n",
       " '1057': 'stevie_wonder',\n",
       " '372': 'anne_hathaway',\n",
       " '649': 'jack_black',\n",
       " '789': 'lea_michele',\n",
       " '75': 'charlotte_gainsbourg',\n",
       " '924': 'nicole_scherzinger',\n",
       " '466': 'carrie_underwood',\n",
       " '867': 'meat_loaf',\n",
       " '814': 'lorde',\n",
       " '727': 'josh_groban',\n",
       " '682': 'jill_scott',\n",
       " '776': 'kylie_minogue',\n",
       " '663': 'janet_jackson',\n",
       " '1046': 'smokey_robinson',\n",
       " '914': 'nelly_furtado',\n",
       " '420': 'blake_shelton',\n",
       " '503': 'cyndi_lauper',\n",
       " '990': 'rita_ora',\n",
       " '680': 'jessie_j',\n",
       " '761': 'kenny_rogers',\n",
       " '892': 'miley_cyrus',\n",
       " '1020': 'sammy_davis_jr.',\n",
       " '452': 'bruno_mars',\n",
       " '842': 'marie_osmond',\n",
       " '359': 'amanda_seyfried',\n",
       " '790': 'lea_salonga'}"
      ]
     },
     "execution_count": 40,
     "metadata": {},
     "output_type": "execute_result"
    }
   ],
   "source": [
    "### creating dictionary for jukeID:artist pair\n",
    "jukecommon = jukemeta[jukemeta['artist_name'].isin(commons)]\n",
    "#print(list(jukecommon))\n",
    "\n",
    "jukeid_celeb = {}\n",
    "for c in commons:\n",
    "    jukeid = str(jukecommon[jukecommon['artist_name'] == c]['artist_id'].unique()[0])\n",
    "    jukeid_celeb[jukeid] = c\n",
    "\n",
    "with open(\"./juke_id_celeb.json\", 'w+') as j\n",
    "\n"
   ]
  },
  {
   "cell_type": "code",
   "execution_count": 24,
   "metadata": {},
   "outputs": [
    {
     "data": {
      "text/html": [
       "<div>\n",
       "<style scoped>\n",
       "    .dataframe tbody tr th:only-of-type {\n",
       "        vertical-align: middle;\n",
       "    }\n",
       "\n",
       "    .dataframe tbody tr th {\n",
       "        vertical-align: top;\n",
       "    }\n",
       "\n",
       "    .dataframe thead th {\n",
       "        text-align: right;\n",
       "    }\n",
       "</style>\n",
       "<table border=\"1\" class=\"dataframe\">\n",
       "  <thead>\n",
       "    <tr style=\"text-align: right;\">\n",
       "      <th></th>\n",
       "      <th>Unnamed: 0</th>\n",
       "      <th>song_name</th>\n",
       "      <th>artist_id</th>\n",
       "      <th>artist_name</th>\n",
       "      <th>partition</th>\n",
       "      <th>language_label</th>\n",
       "      <th>gender_label</th>\n",
       "      <th>full_path</th>\n",
       "    </tr>\n",
       "  </thead>\n",
       "  <tbody>\n",
       "    <tr>\n",
       "      <th>2411</th>\n",
       "      <td>2411</td>\n",
       "      <td>0_1.wav</td>\n",
       "      <td>75</td>\n",
       "      <td>charlotte_gainsbourg</td>\n",
       "      <td>AUXILIARY</td>\n",
       "      <td>French</td>\n",
       "      <td>female</td>\n",
       "      <td>AUXILIARY/75/0_1.wav</td>\n",
       "    </tr>\n",
       "    <tr>\n",
       "      <th>2412</th>\n",
       "      <td>2412</td>\n",
       "      <td>0_2.wav</td>\n",
       "      <td>75</td>\n",
       "      <td>charlotte_gainsbourg</td>\n",
       "      <td>AUXILIARY</td>\n",
       "      <td>French</td>\n",
       "      <td>female</td>\n",
       "      <td>AUXILIARY/75/0_2.wav</td>\n",
       "    </tr>\n",
       "    <tr>\n",
       "      <th>2413</th>\n",
       "      <td>2413</td>\n",
       "      <td>0_3.wav</td>\n",
       "      <td>75</td>\n",
       "      <td>charlotte_gainsbourg</td>\n",
       "      <td>AUXILIARY</td>\n",
       "      <td>French</td>\n",
       "      <td>female</td>\n",
       "      <td>AUXILIARY/75/0_3.wav</td>\n",
       "    </tr>\n",
       "    <tr>\n",
       "      <th>2414</th>\n",
       "      <td>2414</td>\n",
       "      <td>0_4.wav</td>\n",
       "      <td>75</td>\n",
       "      <td>charlotte_gainsbourg</td>\n",
       "      <td>AUXILIARY</td>\n",
       "      <td>French</td>\n",
       "      <td>female</td>\n",
       "      <td>AUXILIARY/75/0_4.wav</td>\n",
       "    </tr>\n",
       "    <tr>\n",
       "      <th>2415</th>\n",
       "      <td>2415</td>\n",
       "      <td>0_5.wav</td>\n",
       "      <td>75</td>\n",
       "      <td>charlotte_gainsbourg</td>\n",
       "      <td>AUXILIARY</td>\n",
       "      <td>French</td>\n",
       "      <td>female</td>\n",
       "      <td>AUXILIARY/75/0_5.wav</td>\n",
       "    </tr>\n",
       "    <tr>\n",
       "      <th>14825</th>\n",
       "      <td>14825</td>\n",
       "      <td>0_1.wav</td>\n",
       "      <td>359</td>\n",
       "      <td>amanda_seyfried</td>\n",
       "      <td>TRAIN</td>\n",
       "      <td>English</td>\n",
       "      <td>female</td>\n",
       "      <td>TRAIN/359/0_1.wav</td>\n",
       "    </tr>\n",
       "    <tr>\n",
       "      <th>14826</th>\n",
       "      <td>14826</td>\n",
       "      <td>0_2.wav</td>\n",
       "      <td>359</td>\n",
       "      <td>amanda_seyfried</td>\n",
       "      <td>TRAIN</td>\n",
       "      <td>English</td>\n",
       "      <td>female</td>\n",
       "      <td>TRAIN/359/0_2.wav</td>\n",
       "    </tr>\n",
       "    <tr>\n",
       "      <th>14827</th>\n",
       "      <td>14827</td>\n",
       "      <td>0_3.wav</td>\n",
       "      <td>359</td>\n",
       "      <td>amanda_seyfried</td>\n",
       "      <td>TRAIN</td>\n",
       "      <td>English</td>\n",
       "      <td>female</td>\n",
       "      <td>TRAIN/359/0_3.wav</td>\n",
       "    </tr>\n",
       "    <tr>\n",
       "      <th>14828</th>\n",
       "      <td>14828</td>\n",
       "      <td>0_4.wav</td>\n",
       "      <td>359</td>\n",
       "      <td>amanda_seyfried</td>\n",
       "      <td>TRAIN</td>\n",
       "      <td>English</td>\n",
       "      <td>female</td>\n",
       "      <td>TRAIN/359/0_4.wav</td>\n",
       "    </tr>\n",
       "    <tr>\n",
       "      <th>14829</th>\n",
       "      <td>14829</td>\n",
       "      <td>0_5.wav</td>\n",
       "      <td>359</td>\n",
       "      <td>amanda_seyfried</td>\n",
       "      <td>TRAIN</td>\n",
       "      <td>English</td>\n",
       "      <td>female</td>\n",
       "      <td>TRAIN/359/0_5.wav</td>\n",
       "    </tr>\n",
       "  </tbody>\n",
       "</table>\n",
       "</div>"
      ],
      "text/plain": [
       "       Unnamed: 0 song_name  artist_id           artist_name  partition  \\\n",
       "2411         2411   0_1.wav         75  charlotte_gainsbourg  AUXILIARY   \n",
       "2412         2412   0_2.wav         75  charlotte_gainsbourg  AUXILIARY   \n",
       "2413         2413   0_3.wav         75  charlotte_gainsbourg  AUXILIARY   \n",
       "2414         2414   0_4.wav         75  charlotte_gainsbourg  AUXILIARY   \n",
       "2415         2415   0_5.wav         75  charlotte_gainsbourg  AUXILIARY   \n",
       "14825       14825   0_1.wav        359       amanda_seyfried      TRAIN   \n",
       "14826       14826   0_2.wav        359       amanda_seyfried      TRAIN   \n",
       "14827       14827   0_3.wav        359       amanda_seyfried      TRAIN   \n",
       "14828       14828   0_4.wav        359       amanda_seyfried      TRAIN   \n",
       "14829       14829   0_5.wav        359       amanda_seyfried      TRAIN   \n",
       "\n",
       "      language_label gender_label             full_path  \n",
       "2411          French       female  AUXILIARY/75/0_1.wav  \n",
       "2412          French       female  AUXILIARY/75/0_2.wav  \n",
       "2413          French       female  AUXILIARY/75/0_3.wav  \n",
       "2414          French       female  AUXILIARY/75/0_4.wav  \n",
       "2415          French       female  AUXILIARY/75/0_5.wav  \n",
       "14825        English       female     TRAIN/359/0_1.wav  \n",
       "14826        English       female     TRAIN/359/0_2.wav  \n",
       "14827        English       female     TRAIN/359/0_3.wav  \n",
       "14828        English       female     TRAIN/359/0_4.wav  \n",
       "14829        English       female     TRAIN/359/0_5.wav  "
      ]
     },
     "execution_count": 24,
     "metadata": {},
     "output_type": "execute_result"
    }
   ],
   "source": [
    "jukecommon[:10]"
   ]
  },
  {
   "cell_type": "code",
   "execution_count": null,
   "metadata": {},
   "outputs": [],
   "source": []
  }
 ],
 "metadata": {
  "kernelspec": {
   "display_name": "Python 3",
   "language": "python",
   "name": "python3"
  },
  "language_info": {
   "codemirror_mode": {
    "name": "ipython",
    "version": 3
   },
   "file_extension": ".py",
   "mimetype": "text/x-python",
   "name": "python",
   "nbconvert_exporter": "python",
   "pygments_lexer": "ipython3",
   "version": "3.6.10"
  },
  "vscode": {
   "interpreter": {
    "hash": "31f2aee4e71d21fbe5cf8b01ff0e069b9275f58929596ceb00d14d90e3e16cd6"
   }
  }
 },
 "nbformat": 4,
 "nbformat_minor": 4
}
